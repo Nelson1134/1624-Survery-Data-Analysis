{
  "cells": [
    {
      "cell_type": "code",
      "execution_count": 153,
      "id": "3a6b3fb6",
      "metadata": {
        "id": "3a6b3fb6"
      },
      "outputs": [],
      "source": [
        "import pandas as pd\n",
        "import numpy as np\n",
        "from random import *\n",
        "import seaborn as sns\n",
        "import matplotlib.pyplot as plt\n",
        "%matplotlib inline\n",
        "\n",
        "from sklearn.model_selection import train_test_split\n",
        "from sklearn.linear_model import LogisticRegression\n",
        "import warnings\n",
        "from sklearn.model_selection import GridSearchCV, KFold\n",
        "from sklearn.metrics import accuracy_score\n",
        "from sklearn.metrics import make_scorer, r2_score, mean_squared_error, auc, mean_absolute_error\n",
        "from sklearn.preprocessing import LabelEncoder\n",
        "from sklearn.feature_selection import RFE\n",
        "from sklearn.metrics import confusion_matrix, classification_report\n",
        "from sklearn import linear_model\n",
        "\n",
        "warnings.filterwarnings(\"ignore\")"
      ]
    },
    {
      "cell_type": "code",
      "execution_count": 154,
      "id": "eU5JU8itP0_z",
      "metadata": {
        "colab": {
          "base_uri": "https://localhost:8080/"
        },
        "id": "eU5JU8itP0_z",
        "outputId": "bfacde24-d379-49cd-9c0c-5dd373cfad9a"
      },
      "outputs": [
        {
          "data": {
            "text/plain": [
              "(8137, 298)"
            ]
          },
          "execution_count": 154,
          "metadata": {},
          "output_type": "execute_result"
        }
      ],
      "source": [
        "salaries = pd.read_csv(\"clean_kaggle_data_2022.csv\", low_memory = False, encoding = 'latin2')\n",
        "salaries.shape"
      ]
    },
    {
      "cell_type": "code",
      "execution_count": 155,
      "id": "xCQ2E3RY4XZM",
      "metadata": {
        "colab": {
          "base_uri": "https://localhost:8080/",
          "height": 707
        },
        "id": "xCQ2E3RY4XZM",
        "outputId": "3a0d7929-8d5d-4397-d749-ce2819db73d2"
      },
      "outputs": [
        {
          "data": {
            "text/html": [
              "<div>\n",
              "<style scoped>\n",
              "    .dataframe tbody tr th:only-of-type {\n",
              "        vertical-align: middle;\n",
              "    }\n",
              "\n",
              "    .dataframe tbody tr th {\n",
              "        vertical-align: top;\n",
              "    }\n",
              "\n",
              "    .dataframe thead th {\n",
              "        text-align: right;\n",
              "    }\n",
              "</style>\n",
              "<table border=\"1\" class=\"dataframe\">\n",
              "  <thead>\n",
              "    <tr style=\"text-align: right;\">\n",
              "      <th></th>\n",
              "      <th>Duration (in seconds)</th>\n",
              "      <th>Q2</th>\n",
              "      <th>Q3</th>\n",
              "      <th>Q4</th>\n",
              "      <th>Q5</th>\n",
              "      <th>Q6_1</th>\n",
              "      <th>Q6_2</th>\n",
              "      <th>Q6_3</th>\n",
              "      <th>Q6_4</th>\n",
              "      <th>Q6_5</th>\n",
              "      <th>...</th>\n",
              "      <th>Q44_5</th>\n",
              "      <th>Q44_6</th>\n",
              "      <th>Q44_7</th>\n",
              "      <th>Q44_8</th>\n",
              "      <th>Q44_9</th>\n",
              "      <th>Q44_10</th>\n",
              "      <th>Q44_11</th>\n",
              "      <th>Q44_12</th>\n",
              "      <th>Q29_Encoded</th>\n",
              "      <th>Q29_buckets</th>\n",
              "    </tr>\n",
              "  </thead>\n",
              "  <tbody>\n",
              "    <tr>\n",
              "      <th>0</th>\n",
              "      <td>Duration (in seconds)</td>\n",
              "      <td>What is your age (# years)?</td>\n",
              "      <td>What is your gender? - Selected Choice</td>\n",
              "      <td>In which country do you currently reside?</td>\n",
              "      <td>Are you currently a student? (high school, uni...</td>\n",
              "      <td>On which platforms have you begun or completed...</td>\n",
              "      <td>On which platforms have you begun or completed...</td>\n",
              "      <td>On which platforms have you begun or completed...</td>\n",
              "      <td>On which platforms have you begun or completed...</td>\n",
              "      <td>On which platforms have you begun or completed...</td>\n",
              "      <td>...</td>\n",
              "      <td>Who/what are your favorite media sources that ...</td>\n",
              "      <td>Who/what are your favorite media sources that ...</td>\n",
              "      <td>Who/what are your favorite media sources that ...</td>\n",
              "      <td>Who/what are your favorite media sources that ...</td>\n",
              "      <td>Who/what are your favorite media sources that ...</td>\n",
              "      <td>Who/what are your favorite media sources that ...</td>\n",
              "      <td>Who/what are your favorite media sources that ...</td>\n",
              "      <td>Who/what are your favorite media sources that ...</td>\n",
              "      <td>NaN</td>\n",
              "      <td>NaN</td>\n",
              "    </tr>\n",
              "    <tr>\n",
              "      <th>1</th>\n",
              "      <td>851</td>\n",
              "      <td>55-59</td>\n",
              "      <td>Man</td>\n",
              "      <td>France</td>\n",
              "      <td>No</td>\n",
              "      <td>Coursera</td>\n",
              "      <td>NaN</td>\n",
              "      <td>Kaggle Learn Courses</td>\n",
              "      <td>NaN</td>\n",
              "      <td>NaN</td>\n",
              "      <td>...</td>\n",
              "      <td>Course Forums (forums.fast.ai, Coursera forums...</td>\n",
              "      <td>NaN</td>\n",
              "      <td>NaN</td>\n",
              "      <td>Blogs (Towards Data Science, Analytics Vidhya,...</td>\n",
              "      <td>NaN</td>\n",
              "      <td>NaN</td>\n",
              "      <td>NaN</td>\n",
              "      <td>NaN</td>\n",
              "      <td>2.0</td>\n",
              "      <td>20,000-29,999</td>\n",
              "    </tr>\n",
              "    <tr>\n",
              "      <th>2</th>\n",
              "      <td>501</td>\n",
              "      <td>30-34</td>\n",
              "      <td>Man</td>\n",
              "      <td>Germany</td>\n",
              "      <td>No</td>\n",
              "      <td>Coursera</td>\n",
              "      <td>edX</td>\n",
              "      <td>NaN</td>\n",
              "      <td>NaN</td>\n",
              "      <td>NaN</td>\n",
              "      <td>...</td>\n",
              "      <td>NaN</td>\n",
              "      <td>YouTube (Kaggle YouTube, Cloud AI Adventures, ...</td>\n",
              "      <td>NaN</td>\n",
              "      <td>Blogs (Towards Data Science, Analytics Vidhya,...</td>\n",
              "      <td>NaN</td>\n",
              "      <td>NaN</td>\n",
              "      <td>NaN</td>\n",
              "      <td>NaN</td>\n",
              "      <td>10.0</td>\n",
              "      <td>100,000-124,999</td>\n",
              "    </tr>\n",
              "    <tr>\n",
              "      <th>3</th>\n",
              "      <td>787</td>\n",
              "      <td>70+</td>\n",
              "      <td>Man</td>\n",
              "      <td>Australia</td>\n",
              "      <td>No</td>\n",
              "      <td>Coursera</td>\n",
              "      <td>NaN</td>\n",
              "      <td>Kaggle Learn Courses</td>\n",
              "      <td>NaN</td>\n",
              "      <td>NaN</td>\n",
              "      <td>...</td>\n",
              "      <td>NaN</td>\n",
              "      <td>NaN</td>\n",
              "      <td>Podcasts (Chai Time Data Science, OEEReilly...</td>\n",
              "      <td>NaN</td>\n",
              "      <td>NaN</td>\n",
              "      <td>NaN</td>\n",
              "      <td>NaN</td>\n",
              "      <td>NaN</td>\n",
              "      <td>10.0</td>\n",
              "      <td>100,000-124,999</td>\n",
              "    </tr>\n",
              "    <tr>\n",
              "      <th>4</th>\n",
              "      <td>1132</td>\n",
              "      <td>40-44</td>\n",
              "      <td>Man</td>\n",
              "      <td>United States of America</td>\n",
              "      <td>No</td>\n",
              "      <td>Coursera</td>\n",
              "      <td>NaN</td>\n",
              "      <td>Kaggle Learn Courses</td>\n",
              "      <td>NaN</td>\n",
              "      <td>Fast.ai</td>\n",
              "      <td>...</td>\n",
              "      <td>NaN</td>\n",
              "      <td>NaN</td>\n",
              "      <td>Podcasts (Chai Time Data Science, OEEReilly...</td>\n",
              "      <td>Blogs (Towards Data Science, Analytics Vidhya,...</td>\n",
              "      <td>NaN</td>\n",
              "      <td>NaN</td>\n",
              "      <td>NaN</td>\n",
              "      <td>NaN</td>\n",
              "      <td>13.0</td>\n",
              "      <td>200,000-299,999</td>\n",
              "    </tr>\n",
              "  </tbody>\n",
              "</table>\n",
              "<p>5 rows × 298 columns</p>\n",
              "</div>"
            ],
            "text/plain": [
              "   Duration (in seconds)                           Q2  \\\n",
              "0  Duration (in seconds)  What is your age (# years)?   \n",
              "1                    851                        55-59   \n",
              "2                    501                        30-34   \n",
              "3                    787                          70+   \n",
              "4                   1132                        40-44   \n",
              "\n",
              "                                       Q3  \\\n",
              "0  What is your gender? - Selected Choice   \n",
              "1                                     Man   \n",
              "2                                     Man   \n",
              "3                                     Man   \n",
              "4                                     Man   \n",
              "\n",
              "                                          Q4  \\\n",
              "0  In which country do you currently reside?   \n",
              "1                                     France   \n",
              "2                                    Germany   \n",
              "3                                  Australia   \n",
              "4                   United States of America   \n",
              "\n",
              "                                                  Q5  \\\n",
              "0  Are you currently a student? (high school, uni...   \n",
              "1                                                 No   \n",
              "2                                                 No   \n",
              "3                                                 No   \n",
              "4                                                 No   \n",
              "\n",
              "                                                Q6_1  \\\n",
              "0  On which platforms have you begun or completed...   \n",
              "1                                           Coursera   \n",
              "2                                           Coursera   \n",
              "3                                           Coursera   \n",
              "4                                           Coursera   \n",
              "\n",
              "                                                Q6_2  \\\n",
              "0  On which platforms have you begun or completed...   \n",
              "1                                                NaN   \n",
              "2                                                edX   \n",
              "3                                                NaN   \n",
              "4                                                NaN   \n",
              "\n",
              "                                                Q6_3  \\\n",
              "0  On which platforms have you begun or completed...   \n",
              "1                               Kaggle Learn Courses   \n",
              "2                                                NaN   \n",
              "3                               Kaggle Learn Courses   \n",
              "4                               Kaggle Learn Courses   \n",
              "\n",
              "                                                Q6_4  \\\n",
              "0  On which platforms have you begun or completed...   \n",
              "1                                                NaN   \n",
              "2                                                NaN   \n",
              "3                                                NaN   \n",
              "4                                                NaN   \n",
              "\n",
              "                                                Q6_5  ...  \\\n",
              "0  On which platforms have you begun or completed...  ...   \n",
              "1                                                NaN  ...   \n",
              "2                                                NaN  ...   \n",
              "3                                                NaN  ...   \n",
              "4                                            Fast.ai  ...   \n",
              "\n",
              "                                               Q44_5  \\\n",
              "0  Who/what are your favorite media sources that ...   \n",
              "1  Course Forums (forums.fast.ai, Coursera forums...   \n",
              "2                                                NaN   \n",
              "3                                                NaN   \n",
              "4                                                NaN   \n",
              "\n",
              "                                               Q44_6  \\\n",
              "0  Who/what are your favorite media sources that ...   \n",
              "1                                                NaN   \n",
              "2  YouTube (Kaggle YouTube, Cloud AI Adventures, ...   \n",
              "3                                                NaN   \n",
              "4                                                NaN   \n",
              "\n",
              "                                               Q44_7  \\\n",
              "0  Who/what are your favorite media sources that ...   \n",
              "1                                                NaN   \n",
              "2                                                NaN   \n",
              "3  Podcasts (Chai Time Data Science, OEEReilly...   \n",
              "4  Podcasts (Chai Time Data Science, OEEReilly...   \n",
              "\n",
              "                                               Q44_8  \\\n",
              "0  Who/what are your favorite media sources that ...   \n",
              "1  Blogs (Towards Data Science, Analytics Vidhya,...   \n",
              "2  Blogs (Towards Data Science, Analytics Vidhya,...   \n",
              "3                                                NaN   \n",
              "4  Blogs (Towards Data Science, Analytics Vidhya,...   \n",
              "\n",
              "                                               Q44_9  \\\n",
              "0  Who/what are your favorite media sources that ...   \n",
              "1                                                NaN   \n",
              "2                                                NaN   \n",
              "3                                                NaN   \n",
              "4                                                NaN   \n",
              "\n",
              "                                              Q44_10  \\\n",
              "0  Who/what are your favorite media sources that ...   \n",
              "1                                                NaN   \n",
              "2                                                NaN   \n",
              "3                                                NaN   \n",
              "4                                                NaN   \n",
              "\n",
              "                                              Q44_11  \\\n",
              "0  Who/what are your favorite media sources that ...   \n",
              "1                                                NaN   \n",
              "2                                                NaN   \n",
              "3                                                NaN   \n",
              "4                                                NaN   \n",
              "\n",
              "                                              Q44_12 Q29_Encoded  \\\n",
              "0  Who/what are your favorite media sources that ...         NaN   \n",
              "1                                                NaN         2.0   \n",
              "2                                                NaN        10.0   \n",
              "3                                                NaN        10.0   \n",
              "4                                                NaN        13.0   \n",
              "\n",
              "       Q29_buckets  \n",
              "0              NaN  \n",
              "1    20,000-29,999  \n",
              "2  100,000-124,999  \n",
              "3  100,000-124,999  \n",
              "4  200,000-299,999  \n",
              "\n",
              "[5 rows x 298 columns]"
            ]
          },
          "execution_count": 155,
          "metadata": {},
          "output_type": "execute_result"
        }
      ],
      "source": [
        "salaries.head()"
      ]
    },
    {
      "cell_type": "code",
      "execution_count": 156,
      "id": "JMeRnfhW2yr-",
      "metadata": {
        "colab": {
          "base_uri": "https://localhost:8080/"
        },
        "id": "JMeRnfhW2yr-",
        "outputId": "e9522b25-dfd8-4beb-ae21-0eb45cac0b72"
      },
      "outputs": [
        {
          "name": "stdout",
          "output_type": "stream",
          "text": [
            "Q30         50\n",
            "Q16        684\n",
            "Q12_1     1615\n",
            "Q15_1     2895\n",
            "Q9        2941\n",
            "          ... \n",
            "Q20_5     8136\n",
            "Q41_8     8136\n",
            "Q39_11    8136\n",
            "Q18_13    8136\n",
            "Q35_15    8136\n",
            "Length: 283, dtype: int64\n"
          ]
        }
      ],
      "source": [
        "null_list = salaries.isnull().sum(axis=0)\n",
        "\n",
        "print(null_list[null_list > 2].sort_values())\n"
      ]
    },
    {
      "cell_type": "markdown",
      "id": "m1orhf7n3lHc",
      "metadata": {
        "id": "m1orhf7n3lHc"
      },
      "source": [
        "# Question 1: Data Cleaning"
      ]
    },
    {
      "cell_type": "markdown",
      "id": "O0rkunI2HIPb",
      "metadata": {
        "id": "O0rkunI2HIPb"
      },
      "source": [
        "- Drop the second row since it is about the question details\n",
        "- Drop other information too if they are irrelevant to the task"
      ]
    },
    {
      "cell_type": "code",
      "execution_count": 157,
      "id": "Xq_yFQpkQLO8",
      "metadata": {
        "colab": {
          "base_uri": "https://localhost:8080/"
        },
        "id": "Xq_yFQpkQLO8",
        "outputId": "797c821d-2c4d-4c40-af33-a47b3490000c"
      },
      "outputs": [
        {
          "data": {
            "text/plain": [
              "(6680, 296)"
            ]
          },
          "execution_count": 157,
          "metadata": {},
          "output_type": "execute_result"
        }
      ],
      "source": [
        "def CleanData(df):\n",
        "    # Drop the first row (question details)\n",
        "    df.drop(df.index[0], inplace=True)\n",
        "    df.drop(columns = ['Q29','Duration (in seconds)'], inplace=True)\n",
        "    df = df.dropna(subset = ['Q30']) # Directly drop null val on Q30 \n",
        "    df.dropna(axis=0, thresh= df.shape[1]*0.1, subset=None, inplace=True) # Drop the row that have more than 10% null response\n",
        "\n",
        "    #TODO: Drop other information too here if they are irrelevant to the task\n",
        "\n",
        "    return df\n",
        "\n",
        "salaries = CleanData(salaries)\n",
        "salaries.shape"
      ]
    },
    {
      "cell_type": "markdown",
      "id": "kswVTQwc5xeV",
      "metadata": {
        "id": "kswVTQwc5xeV"
      },
      "source": [
        "###**Impute missing values (single column responses)**\n",
        "\n",
        "1. Identify columns with single column responses\n",
        "\n",
        "2. Address missing values in those columns"
      ]
    },
    {
      "cell_type": "code",
      "execution_count": 158,
      "id": "ZgdW5Uzj55Pd",
      "metadata": {
        "colab": {
          "base_uri": "https://localhost:8080/"
        },
        "id": "ZgdW5Uzj55Pd",
        "outputId": "034f3be4-567a-4ff0-c94d-f13ac29f8b30"
      },
      "outputs": [
        {
          "name": "stdout",
          "output_type": "stream",
          "text": [
            "Percentage of null values: \n",
            "Q2              0.000000\n",
            "Q3              0.000000\n",
            "Q4              0.000000\n",
            "Q5              0.000000\n",
            "Q8              0.000000\n",
            "Q9             32.095808\n",
            "Q11             0.000000\n",
            "Q16             0.044910\n",
            "Q22            76.032934\n",
            "Q23             0.000000\n",
            "Q24             0.000000\n",
            "Q25             0.000000\n",
            "Q26             0.000000\n",
            "Q27             0.000000\n",
            "Q30             0.000000\n",
            "Q32            72.200599\n",
            "Q43            34.131737\n",
            "Q29_Encoded     0.000000\n",
            "dtype: float64\n",
            "\n",
            "Percentage of null values (make sure they are all zeros): \n",
            "Q2             0.0\n",
            "Q3             0.0\n",
            "Q4             0.0\n",
            "Q5             0.0\n",
            "Q8             0.0\n",
            "Q9             0.0\n",
            "Q11            0.0\n",
            "Q16            0.0\n",
            "Q22            0.0\n",
            "Q23            0.0\n",
            "Q24            0.0\n",
            "Q25            0.0\n",
            "Q26            0.0\n",
            "Q27            0.0\n",
            "Q30            0.0\n",
            "Q32            0.0\n",
            "Q43            0.0\n",
            "Q29_Encoded    0.0\n",
            "dtype: float64\n"
          ]
        },
        {
          "data": {
            "text/plain": [
              "(6680, 296)"
            ]
          },
          "execution_count": 158,
          "metadata": {},
          "output_type": "execute_result"
        }
      ],
      "source": [
        "def ImputingSingleColMissingValues(df):\n",
        "    # Tips: Include Q29_Encoded (target) in the single_col_names\n",
        "    # so that its row size stays same as other rows after data preprocessing\n",
        "    single_col_names = [col for col in df.columns if '_' not in col]#TODO: extract single column names and store them as a list\n",
        "    single_col_names.append('Q29_Encoded')\n",
        "\n",
        "    print(\"Percentage of null values: \")\n",
        "    print(df[single_col_names].isnull().sum()*100/len(df))\n",
        "\n",
        "\n",
        "    #TODO: address missing values in single column responses in df\n",
        "\n",
        "    df['Q16'].fillna(df['Q16'].mode()[0],inplace=True) # Fill Null with mode (low %)\n",
        "    df[['Q9', 'Q22', 'Q32', 'Q43']] = df[['Q9', 'Q22', 'Q32', 'Q43']].fillna(\"Unknown\")# Fill Null with Unknow (High %)\n",
        "\n",
        "    print(\"\\nPercentage of null values (make sure they are all zeros): \")\n",
        "    print(df[single_col_names].isnull().sum()*100/len(df))\n",
        "    assert df[single_col_names].isnull().values.sum() == 0, \\\n",
        "        \"There are still missing values remaining!\"\n",
        "\n",
        "    return df\n",
        "\n",
        "salaries = ImputingSingleColMissingValues(salaries)\n",
        "salaries.shape"
      ]
    },
    {
      "cell_type": "markdown",
      "id": "_p3uIiOS-nV4",
      "metadata": {
        "id": "_p3uIiOS-nV4"
      },
      "source": [
        "###**Encode categorical features (sinlge column responses)**"
      ]
    },
    {
      "cell_type": "code",
      "execution_count": 159,
      "id": "be5ddfb7",
      "metadata": {},
      "outputs": [
        {
          "data": {
            "text/plain": [
              "(6680, 296)"
            ]
          },
          "execution_count": 159,
          "metadata": {},
          "output_type": "execute_result"
        }
      ],
      "source": [
        "#TODO: Encode categorical features in the single column responses\n",
        "single_col_names = [col for col in salaries.columns if '_' not in col]\n",
        "single_col_names.insert(0,'Q29_buckets')\n",
        "single_col_names.insert(0,'Q29_Encoded')\n",
        "\n",
        "multi_col_names = [col for col in salaries.columns if col not in single_col_names]\n",
        "single_col_names_clean = single_col_names[2:] # Exclude Q29 Encoded and bucket\n",
        "\n",
        "label_encoder = LabelEncoder()\n",
        "for col in single_col_names_clean:\n",
        "    salaries[col] = label_encoder.fit_transform(salaries[col])\n",
        "salaries.shape"
      ]
    },
    {
      "cell_type": "markdown",
      "id": "02aiBHNLCgRr",
      "metadata": {
        "id": "02aiBHNLCgRr"
      },
      "source": [
        "###**Handling categorical features (multi column responses)**"
      ]
    },
    {
      "cell_type": "code",
      "execution_count": 160,
      "id": "eWODUK9iCzaR",
      "metadata": {
        "colab": {
          "base_uri": "https://localhost:8080/"
        },
        "id": "eWODUK9iCzaR",
        "outputId": "4530c8f6-38f8-4ae2-db22-1345873ef337"
      },
      "outputs": [
        {
          "name": "stdout",
          "output_type": "stream",
          "text": [
            "Percentage of null values: \n",
            "Q6_1      0.0\n",
            "Q6_2      0.0\n",
            "Q6_3      0.0\n",
            "Q6_4      0.0\n",
            "Q6_5      0.0\n",
            "         ... \n",
            "Q44_8     0.0\n",
            "Q44_9     0.0\n",
            "Q44_10    0.0\n",
            "Q44_11    0.0\n",
            "Q44_12    0.0\n",
            "Length: 277, dtype: float64\n"
          ]
        },
        {
          "data": {
            "text/plain": [
              "(6680, 296)"
            ]
          },
          "execution_count": 160,
          "metadata": {},
          "output_type": "execute_result"
        }
      ],
      "source": [
        "multi_col_names = multi_col_names #TODO: Identify multi-column responses\n",
        "salaries = salaries.fillna('Not Select')\n",
        "\n",
        "for col in multi_col_names:\n",
        "  salaries[col] = salaries[col].apply(lambda x: 1 if x != 'Not Select' else 0)\n",
        "\n",
        "print(\"Percentage of null values: \")\n",
        "print(salaries[multi_col_names].isnull().sum()*100/len(salaries))\n",
        "\n",
        "#TODO: Address missing values in the multi-column responses and and perform encoding for categorical features\n",
        "\n",
        "salaries.shape\n"
      ]
    },
    {
      "cell_type": "code",
      "execution_count": 161,
      "id": "7b885a2c",
      "metadata": {},
      "outputs": [
        {
          "data": {
            "text/plain": [
              "(6680, 44)"
            ]
          },
          "execution_count": 161,
          "metadata": {},
          "output_type": "execute_result"
        }
      ],
      "source": [
        "drop_col = []\n",
        "muti_col =[]\n",
        "\n",
        "for col in multi_col_names:\n",
        "  work = col[:col.index('_')]\n",
        "\n",
        "  if work not in salaries.columns:\n",
        "    #print('Set up', work)\n",
        "    salaries[work] = salaries[col]\n",
        "    drop_col.append(col)\n",
        "    muti_col.append(work)\n",
        "\n",
        "  else:\n",
        "    #print('Merge',col)\n",
        "    salaries[work] = salaries[work]+ salaries[col]\n",
        "    drop_col.append(col)\n",
        "\n",
        "salaries.drop(columns = drop_col , inplace = True)\n",
        "\n",
        "\n",
        "salaries.shape"
      ]
    },
    {
      "cell_type": "code",
      "execution_count": 162,
      "id": "388e1157",
      "metadata": {},
      "outputs": [
        {
          "data": {
            "text/html": [
              "<div>\n",
              "<style scoped>\n",
              "    .dataframe tbody tr th:only-of-type {\n",
              "        vertical-align: middle;\n",
              "    }\n",
              "\n",
              "    .dataframe tbody tr th {\n",
              "        vertical-align: top;\n",
              "    }\n",
              "\n",
              "    .dataframe thead th {\n",
              "        text-align: right;\n",
              "    }\n",
              "</style>\n",
              "<table border=\"1\" class=\"dataframe\">\n",
              "  <thead>\n",
              "    <tr style=\"text-align: right;\">\n",
              "      <th></th>\n",
              "      <th>Q2</th>\n",
              "      <th>Q3</th>\n",
              "      <th>Q4</th>\n",
              "      <th>Q5</th>\n",
              "      <th>Q8</th>\n",
              "      <th>Q9</th>\n",
              "      <th>Q11</th>\n",
              "      <th>Q16</th>\n",
              "      <th>Q22</th>\n",
              "      <th>Q23</th>\n",
              "      <th>...</th>\n",
              "      <th>Q34</th>\n",
              "      <th>Q35</th>\n",
              "      <th>Q36</th>\n",
              "      <th>Q37</th>\n",
              "      <th>Q38</th>\n",
              "      <th>Q39</th>\n",
              "      <th>Q40</th>\n",
              "      <th>Q41</th>\n",
              "      <th>Q42</th>\n",
              "      <th>Q44</th>\n",
              "    </tr>\n",
              "  </thead>\n",
              "  <tbody>\n",
              "    <tr>\n",
              "      <th>1</th>\n",
              "      <td>8</td>\n",
              "      <td>0</td>\n",
              "      <td>15</td>\n",
              "      <td>0</td>\n",
              "      <td>6</td>\n",
              "      <td>1</td>\n",
              "      <td>1</td>\n",
              "      <td>0</td>\n",
              "      <td>1</td>\n",
              "      <td>4</td>\n",
              "      <td>...</td>\n",
              "      <td>0</td>\n",
              "      <td>1</td>\n",
              "      <td>0</td>\n",
              "      <td>1</td>\n",
              "      <td>1</td>\n",
              "      <td>1</td>\n",
              "      <td>2</td>\n",
              "      <td>0</td>\n",
              "      <td>1</td>\n",
              "      <td>4</td>\n",
              "    </tr>\n",
              "    <tr>\n",
              "      <th>2</th>\n",
              "      <td>3</td>\n",
              "      <td>0</td>\n",
              "      <td>16</td>\n",
              "      <td>0</td>\n",
              "      <td>0</td>\n",
              "      <td>1</td>\n",
              "      <td>1</td>\n",
              "      <td>4</td>\n",
              "      <td>1</td>\n",
              "      <td>11</td>\n",
              "      <td>...</td>\n",
              "      <td>0</td>\n",
              "      <td>0</td>\n",
              "      <td>0</td>\n",
              "      <td>0</td>\n",
              "      <td>0</td>\n",
              "      <td>0</td>\n",
              "      <td>0</td>\n",
              "      <td>0</td>\n",
              "      <td>0</td>\n",
              "      <td>5</td>\n",
              "    </tr>\n",
              "    <tr>\n",
              "      <th>3</th>\n",
              "      <td>10</td>\n",
              "      <td>0</td>\n",
              "      <td>2</td>\n",
              "      <td>0</td>\n",
              "      <td>1</td>\n",
              "      <td>2</td>\n",
              "      <td>2</td>\n",
              "      <td>5</td>\n",
              "      <td>9</td>\n",
              "      <td>10</td>\n",
              "      <td>...</td>\n",
              "      <td>1</td>\n",
              "      <td>0</td>\n",
              "      <td>0</td>\n",
              "      <td>1</td>\n",
              "      <td>1</td>\n",
              "      <td>0</td>\n",
              "      <td>1</td>\n",
              "      <td>0</td>\n",
              "      <td>0</td>\n",
              "      <td>2</td>\n",
              "    </tr>\n",
              "    <tr>\n",
              "      <th>4</th>\n",
              "      <td>5</td>\n",
              "      <td>0</td>\n",
              "      <td>55</td>\n",
              "      <td>0</td>\n",
              "      <td>1</td>\n",
              "      <td>2</td>\n",
              "      <td>1</td>\n",
              "      <td>5</td>\n",
              "      <td>9</td>\n",
              "      <td>5</td>\n",
              "      <td>...</td>\n",
              "      <td>2</td>\n",
              "      <td>3</td>\n",
              "      <td>2</td>\n",
              "      <td>1</td>\n",
              "      <td>1</td>\n",
              "      <td>1</td>\n",
              "      <td>2</td>\n",
              "      <td>0</td>\n",
              "      <td>1</td>\n",
              "      <td>4</td>\n",
              "    </tr>\n",
              "    <tr>\n",
              "      <th>5</th>\n",
              "      <td>5</td>\n",
              "      <td>0</td>\n",
              "      <td>55</td>\n",
              "      <td>0</td>\n",
              "      <td>3</td>\n",
              "      <td>2</td>\n",
              "      <td>1</td>\n",
              "      <td>5</td>\n",
              "      <td>9</td>\n",
              "      <td>4</td>\n",
              "      <td>...</td>\n",
              "      <td>2</td>\n",
              "      <td>5</td>\n",
              "      <td>3</td>\n",
              "      <td>2</td>\n",
              "      <td>1</td>\n",
              "      <td>1</td>\n",
              "      <td>2</td>\n",
              "      <td>0</td>\n",
              "      <td>2</td>\n",
              "      <td>3</td>\n",
              "    </tr>\n",
              "  </tbody>\n",
              "</table>\n",
              "<p>5 rows × 44 columns</p>\n",
              "</div>"
            ],
            "text/plain": [
              "   Q2  Q3  Q4  Q5  Q8  Q9  Q11  Q16  Q22  Q23  ...  Q34  Q35  Q36  Q37  Q38  \\\n",
              "1   8   0  15   0   6   1    1    0    1    4  ...    0    1    0    1    1   \n",
              "2   3   0  16   0   0   1    1    4    1   11  ...    0    0    0    0    0   \n",
              "3  10   0   2   0   1   2    2    5    9   10  ...    1    0    0    1    1   \n",
              "4   5   0  55   0   1   2    1    5    9    5  ...    2    3    2    1    1   \n",
              "5   5   0  55   0   3   2    1    5    9    4  ...    2    5    3    2    1   \n",
              "\n",
              "   Q39  Q40  Q41 Q42  Q44  \n",
              "1    1    2    0   1    4  \n",
              "2    0    0    0   0    5  \n",
              "3    0    1    0   0    2  \n",
              "4    1    2    0   1    4  \n",
              "5    1    2    0   2    3  \n",
              "\n",
              "[5 rows x 44 columns]"
            ]
          },
          "execution_count": 162,
          "metadata": {},
          "output_type": "execute_result"
        }
      ],
      "source": [
        "salaries.head()"
      ]
    },
    {
      "cell_type": "markdown",
      "id": "71PPXsVpEdby",
      "metadata": {
        "id": "71PPXsVpEdby"
      },
      "source": [
        "###**Drop the target variable(s) and get the target variable**"
      ]
    },
    {
      "cell_type": "code",
      "execution_count": 163,
      "id": "J8Xdq2I0aIOK",
      "metadata": {
        "id": "J8Xdq2I0aIOK"
      },
      "outputs": [],
      "source": [
        "# Make sure there are no missing values remaining in the dataset\n",
        "assert salaries.isnull().values.sum() == 0, \\\n",
        "    \"There are still {} missing values remaining in salaries!\".format(salaries.isnull().values.sum())"
      ]
    },
    {
      "cell_type": "code",
      "execution_count": 164,
      "id": "01UFnhWGE67u",
      "metadata": {
        "id": "01UFnhWGE67u"
      },
      "outputs": [],
      "source": [
        "target = salaries['Q29_Encoded']#TODO: get the target variable\n",
        "\n",
        "\n",
        "#TODO: Drop the target variables from the feature set\n",
        "col_to_drop = ['Q29_Encoded','Q29_buckets']\n",
        "salaries.drop(columns = col_to_drop, inplace = True )\n",
        "\n",
        "# Make sure the target variables are not included in the feature set\n",
        "for col in salaries.columns:\n",
        "    assert 'Q29' not in col, \\\n",
        "        \"Target variable ({}) is still in the dataset\".format(col)"
      ]
    },
    {
      "cell_type": "code",
      "execution_count": 165,
      "id": "397f00f6",
      "metadata": {},
      "outputs": [
        {
          "data": {
            "text/html": [
              "<div>\n",
              "<style scoped>\n",
              "    .dataframe tbody tr th:only-of-type {\n",
              "        vertical-align: middle;\n",
              "    }\n",
              "\n",
              "    .dataframe tbody tr th {\n",
              "        vertical-align: top;\n",
              "    }\n",
              "\n",
              "    .dataframe thead th {\n",
              "        text-align: right;\n",
              "    }\n",
              "</style>\n",
              "<table border=\"1\" class=\"dataframe\">\n",
              "  <thead>\n",
              "    <tr style=\"text-align: right;\">\n",
              "      <th></th>\n",
              "      <th>Q2</th>\n",
              "      <th>Q3</th>\n",
              "      <th>Q4</th>\n",
              "      <th>Q5</th>\n",
              "      <th>Q8</th>\n",
              "      <th>Q9</th>\n",
              "      <th>Q11</th>\n",
              "      <th>Q16</th>\n",
              "      <th>Q22</th>\n",
              "      <th>Q23</th>\n",
              "      <th>...</th>\n",
              "      <th>Q34</th>\n",
              "      <th>Q35</th>\n",
              "      <th>Q36</th>\n",
              "      <th>Q37</th>\n",
              "      <th>Q38</th>\n",
              "      <th>Q39</th>\n",
              "      <th>Q40</th>\n",
              "      <th>Q41</th>\n",
              "      <th>Q42</th>\n",
              "      <th>Q44</th>\n",
              "    </tr>\n",
              "  </thead>\n",
              "  <tbody>\n",
              "    <tr>\n",
              "      <th>1</th>\n",
              "      <td>8</td>\n",
              "      <td>0</td>\n",
              "      <td>15</td>\n",
              "      <td>0</td>\n",
              "      <td>6</td>\n",
              "      <td>1</td>\n",
              "      <td>1</td>\n",
              "      <td>0</td>\n",
              "      <td>1</td>\n",
              "      <td>4</td>\n",
              "      <td>...</td>\n",
              "      <td>0</td>\n",
              "      <td>1</td>\n",
              "      <td>0</td>\n",
              "      <td>1</td>\n",
              "      <td>1</td>\n",
              "      <td>1</td>\n",
              "      <td>2</td>\n",
              "      <td>0</td>\n",
              "      <td>1</td>\n",
              "      <td>4</td>\n",
              "    </tr>\n",
              "    <tr>\n",
              "      <th>2</th>\n",
              "      <td>3</td>\n",
              "      <td>0</td>\n",
              "      <td>16</td>\n",
              "      <td>0</td>\n",
              "      <td>0</td>\n",
              "      <td>1</td>\n",
              "      <td>1</td>\n",
              "      <td>4</td>\n",
              "      <td>1</td>\n",
              "      <td>11</td>\n",
              "      <td>...</td>\n",
              "      <td>0</td>\n",
              "      <td>0</td>\n",
              "      <td>0</td>\n",
              "      <td>0</td>\n",
              "      <td>0</td>\n",
              "      <td>0</td>\n",
              "      <td>0</td>\n",
              "      <td>0</td>\n",
              "      <td>0</td>\n",
              "      <td>5</td>\n",
              "    </tr>\n",
              "    <tr>\n",
              "      <th>3</th>\n",
              "      <td>10</td>\n",
              "      <td>0</td>\n",
              "      <td>2</td>\n",
              "      <td>0</td>\n",
              "      <td>1</td>\n",
              "      <td>2</td>\n",
              "      <td>2</td>\n",
              "      <td>5</td>\n",
              "      <td>9</td>\n",
              "      <td>10</td>\n",
              "      <td>...</td>\n",
              "      <td>1</td>\n",
              "      <td>0</td>\n",
              "      <td>0</td>\n",
              "      <td>1</td>\n",
              "      <td>1</td>\n",
              "      <td>0</td>\n",
              "      <td>1</td>\n",
              "      <td>0</td>\n",
              "      <td>0</td>\n",
              "      <td>2</td>\n",
              "    </tr>\n",
              "    <tr>\n",
              "      <th>4</th>\n",
              "      <td>5</td>\n",
              "      <td>0</td>\n",
              "      <td>55</td>\n",
              "      <td>0</td>\n",
              "      <td>1</td>\n",
              "      <td>2</td>\n",
              "      <td>1</td>\n",
              "      <td>5</td>\n",
              "      <td>9</td>\n",
              "      <td>5</td>\n",
              "      <td>...</td>\n",
              "      <td>2</td>\n",
              "      <td>3</td>\n",
              "      <td>2</td>\n",
              "      <td>1</td>\n",
              "      <td>1</td>\n",
              "      <td>1</td>\n",
              "      <td>2</td>\n",
              "      <td>0</td>\n",
              "      <td>1</td>\n",
              "      <td>4</td>\n",
              "    </tr>\n",
              "    <tr>\n",
              "      <th>5</th>\n",
              "      <td>5</td>\n",
              "      <td>0</td>\n",
              "      <td>55</td>\n",
              "      <td>0</td>\n",
              "      <td>3</td>\n",
              "      <td>2</td>\n",
              "      <td>1</td>\n",
              "      <td>5</td>\n",
              "      <td>9</td>\n",
              "      <td>4</td>\n",
              "      <td>...</td>\n",
              "      <td>2</td>\n",
              "      <td>5</td>\n",
              "      <td>3</td>\n",
              "      <td>2</td>\n",
              "      <td>1</td>\n",
              "      <td>1</td>\n",
              "      <td>2</td>\n",
              "      <td>0</td>\n",
              "      <td>2</td>\n",
              "      <td>3</td>\n",
              "    </tr>\n",
              "  </tbody>\n",
              "</table>\n",
              "<p>5 rows × 42 columns</p>\n",
              "</div>"
            ],
            "text/plain": [
              "   Q2  Q3  Q4  Q5  Q8  Q9  Q11  Q16  Q22  Q23  ...  Q34  Q35  Q36  Q37  Q38  \\\n",
              "1   8   0  15   0   6   1    1    0    1    4  ...    0    1    0    1    1   \n",
              "2   3   0  16   0   0   1    1    4    1   11  ...    0    0    0    0    0   \n",
              "3  10   0   2   0   1   2    2    5    9   10  ...    1    0    0    1    1   \n",
              "4   5   0  55   0   1   2    1    5    9    5  ...    2    3    2    1    1   \n",
              "5   5   0  55   0   3   2    1    5    9    4  ...    2    5    3    2    1   \n",
              "\n",
              "   Q39  Q40  Q41  Q42  Q44  \n",
              "1    1    2    0    1    4  \n",
              "2    0    0    0    0    5  \n",
              "3    0    1    0    0    2  \n",
              "4    1    2    0    1    4  \n",
              "5    1    2    0    2    3  \n",
              "\n",
              "[5 rows x 42 columns]"
            ]
          },
          "execution_count": 165,
          "metadata": {},
          "output_type": "execute_result"
        }
      ],
      "source": [
        "salaries.head()"
      ]
    },
    {
      "cell_type": "markdown",
      "id": "c1uNYg4xGhta",
      "metadata": {
        "id": "c1uNYg4xGhta"
      },
      "source": [
        "# Question 2: Exploratory Feature Analysis\n",
        "\n",
        "- From Question 2 - Question 4, you should **NOT** peek at the test labels in any form!\n",
        "- Assume that you do not know the target values (Q29_Encoded)"
      ]
    },
    {
      "cell_type": "markdown",
      "id": "yCkFKoni0CPH",
      "metadata": {
        "id": "yCkFKoni0CPH"
      },
      "source": [
        "## Split data into training and test sets"
      ]
    },
    {
      "cell_type": "code",
      "execution_count": 166,
      "id": "JZhQ_IffzAD_",
      "metadata": {
        "id": "JZhQ_IffzAD_"
      },
      "outputs": [],
      "source": [
        "# You can use from sklearn.model_selection.train_test_split()\n",
        "train_df, test_df, y_train, y_test = train_test_split(\n",
        "                                        salaries,\n",
        "                                        target,\n",
        "                                        test_size=0.2,\n",
        "                                        random_state=2024\n",
        "                                        ) #TODO"
      ]
    },
    {
      "cell_type": "markdown",
      "id": "L31jOKn0OVbH",
      "metadata": {
        "id": "L31jOKn0OVbH"
      },
      "source": [
        "## **Feature Engineering/Generation (Optional)**\n",
        "\n",
        "- Create new feature(s) using existing features!"
      ]
    },
    {
      "cell_type": "code",
      "execution_count": 167,
      "id": "vwMQ55kQPuPX",
      "metadata": {
        "id": "vwMQ55kQPuPX"
      },
      "outputs": [],
      "source": [
        "#TODO: Create new features (feature generation)"
      ]
    },
    {
      "cell_type": "markdown",
      "id": "fC6DORiwL5b_",
      "metadata": {
        "id": "fC6DORiwL5b_"
      },
      "source": [
        "## **Feature Selection**\n",
        "\n",
        "- Select the features based on the criteria of your choice"
      ]
    },
    {
      "cell_type": "code",
      "execution_count": 168,
      "id": "vj2WL5kUbeHJ",
      "metadata": {
        "id": "vj2WL5kUbeHJ"
      },
      "outputs": [
        {
          "name": "stdout",
          "output_type": "stream",
          "text": [
            "R² score: 0.33346102255067234\n"
          ]
        },
        {
          "data": {
            "image/png": "[encoded data removed]",
            "text/plain": [
              "<Figure size 1200x600 with 1 Axes>"
            ]
          },
          "metadata": {},
          "output_type": "display_data"
        }
      ],
      "source": [
        "# Initialize and fit the LASSO model\n",
        "reg = linear_model.Lasso(alpha=0.3, max_iter=10000)\n",
        "reg.fit(train_df, y_train)\n",
        "\n",
        "# Evaluate the model\n",
        "r2_score = reg.score(train_df, y_train)\n",
        "print(\"R² score:\", r2_score)\n",
        "\n",
        "coefficients = pd.Series(reg.coef_, index=train_df.columns)\n",
        "\n",
        "# Select non-zero coefficients and their corresponding features\n",
        "non_zero_features = coefficients[coefficients != 0]\n",
        "\n",
        "# Sort non-zero features and coefficients in descending order\n",
        "sorted_indices = np.argsort(np.abs(non_zero_features))[::-1]\n",
        "sorted_feature_names = non_zero_features.index[sorted_indices]\n",
        "sorted_coefficients = non_zero_features.values[sorted_indices]\n",
        "\n",
        "# Plot the non-zero coefficients as a bar diagram\n",
        "plt.figure(figsize=(12, 6))\n",
        "plt.barh(sorted_feature_names, sorted_coefficients, align='center', color='skyblue')\n",
        "plt.xlabel('Coefficient Value')\n",
        "plt.title('Non-zero Coefficients for Lasso Regression Model (Descending Order)')\n",
        "plt.show()\n"
      ]
    },
    {
      "cell_type": "code",
      "execution_count": 169,
      "id": "lw92jYTKItv6",
      "metadata": {
        "id": "lw92jYTKItv6"
      },
      "outputs": [],
      "source": [
        "train_df_selected = train_df[sorted_feature_names]"
      ]
    },
    {
      "cell_type": "markdown",
      "id": "mCHvO21oMCjj",
      "metadata": {
        "id": "mCHvO21oMCjj"
      },
      "source": [
        "## **Visualization**\n",
        "\n",
        "- Make visualization to better understand your data"
      ]
    },
    {
      "cell_type": "markdown",
      "id": "RWu57xog0qGh",
      "metadata": {
        "id": "RWu57xog0qGh"
      },
      "source": [
        "## **Apply the same feature engineering/selection to test data**"
      ]
    },
    {
      "cell_type": "code",
      "execution_count": 170,
      "id": "B9LzwwjUxqyb",
      "metadata": {
        "id": "B9LzwwjUxqyb"
      },
      "outputs": [],
      "source": [
        "#TODO: Feature generation code you applied to the training data (optional)\n",
        "\n",
        "# Leave selected features\n",
        "test_df_selected = test_df[sorted_feature_names]"
      ]
    },
    {
      "cell_type": "code",
      "execution_count": 171,
      "id": "jie6Z6eQ9UBS",
      "metadata": {
        "id": "jie6Z6eQ9UBS"
      },
      "outputs": [],
      "source": [
        "X_train = train_df_selected.values\n",
        "X_test = test_df_selected.values\n",
        "y_train = y_train.values\n",
        "y_test = y_test.values"
      ]
    },
    {
      "cell_type": "code",
      "execution_count": 172,
      "id": "7itnTxghsox5",
      "metadata": {
        "colab": {
          "base_uri": "https://localhost:8080/",
          "height": 472
        },
        "id": "7itnTxghsox5",
        "outputId": "58acc976-868f-4c9d-fbfa-0ed0b7178627"
      },
      "outputs": [
        {
          "data": {
            "image/png": "[encoded data removed]",
            "text/plain": [
              "<Figure size 640x480 with 1 Axes>"
            ]
          },
          "metadata": {},
          "output_type": "display_data"
        }
      ],
      "source": [
        "plt.hist(y_train, bins=10, edgecolor='black')\n",
        "plt.title(\"Salary Histogram 10 bins\")\n",
        "plt.xlabel(\"Salary Bin\")\n",
        "plt.ylabel(\"Number of Samples\")\n",
        "plt.show()"
      ]
    },
    {
      "cell_type": "markdown",
      "id": "ZiT8l3PX9m5F",
      "metadata": {
        "id": "ZiT8l3PX9m5F"
      },
      "source": [
        "# Question 3: Model Implementation"
      ]
    },
    {
      "cell_type": "markdown",
      "id": "7oBXbSYFL3Cs",
      "metadata": {
        "id": "7oBXbSYFL3Cs"
      },
      "source": [
        "## Implement Ordinal Logistic Regression Model"
      ]
    },
    {
      "cell_type": "code",
      "execution_count": 173,
      "id": "Mbu3Gb5oRpkw",
      "metadata": {
        "id": "Mbu3Gb5oRpkw"
      },
      "outputs": [],
      "source": [
        "from sklearn.linear_model import LogisticRegression\n",
        "import numpy as np\n",
        "\n",
        "class OrdinalLogisticRegression():\n",
        "    # TODO: Add ordinal logreg hyperparameters as args to __init__\n",
        "    # A dummy hyperparameter is put as a placeholder for now\n",
        "    def __init__(self, max_iter=200, C=0.1):  # Updated placeholder for C\n",
        "        # TODO: Add the ordinal logreg hyperparameters here\n",
        "        self.max_iter = max_iter\n",
        "        self.C = C  # Use the provided C hyperparameter\n",
        "\n",
        "        self.classes_ = []\n",
        "        self.models_ = []\n",
        "\n",
        "    def fit(self, X, y):\n",
        "        self.classes_ = sorted(np.unique(y))\n",
        "        self.models_ = []\n",
        "\n",
        "        # Train k-1 binary logistic regression models\n",
        "        for i, c in enumerate(self.classes_[:-1]):  # We need only k-1 classifiers\n",
        "            # TODO: label is 0 if the salary bucket is 0 to c, otherwise label is 1\n",
        "            y_i = np.where(y <= c, 0, 1)\n",
        "            # TODO: Use Logistic Regression as the binary logistic regression model\n",
        "            model = LogisticRegression(max_iter=self.max_iter, C=self.C)  # Use the provided C hyperparameter\n",
        "            model.fit(X, y_i)\n",
        "            self.models_.append(model)\n",
        "\n",
        "        # Store coefficients for feature importance\n",
        "        self.coef_ = np.concatenate([model.coef_ for model in self.models_], axis=0)\n",
        "\n",
        "        return self\n",
        "\n",
        "    def predict_proba(self, X):\n",
        "        assert len(self.models_) > 0, \"Model is not fitted yet. Run .fit() first.\"\n",
        "\n",
        "        # Predicted probabilities for k-1 binary logistic regression models (initialize placeholders)\n",
        "        binary_probabilities = np.empty((X.shape[0], len(self.models_), 2), dtype=float)\n",
        "\n",
        "        # Make predictions of k-1 binary logistic regression models\n",
        "        for i, model in enumerate(self.models_):\n",
        "            # TODO: predicted **probabilities** by the ith binary logistic regression model\n",
        "            binary_probabilities[:, i] = model.predict_proba(X)\n",
        "\n",
        "        # Compute the probabilities to be in each class\n",
        "        k = len(self.classes_)\n",
        "        proba = np.empty((X.shape[0], k), dtype=float)  # predicted probabilities for all the data in X (shape=(X.shape[0], k))\n",
        "\n",
        "        proba[:, 0] = binary_probabilities[:, 0, 0]  # 0th probability\n",
        "\n",
        "        for i in range(1, k - 1):\n",
        "            # ith probability\n",
        "            # (prob of belonging to class 0 for the ith model - prob of belonging to class 0 for the (i-1)th model\n",
        "            proba[:, i] = binary_probabilities[:, i, 0] - binary_probabilities[:, i - 1, 0]\n",
        "\n",
        "        proba[:, -1] = binary_probabilities[:, k - 2, 1]  # (k-1)th probability\n",
        "\n",
        "        assert (proba.sum(axis=1) == 1).all(), \\\n",
        "            'There is a problem in the probability computation'\n",
        "        return proba\n",
        "\n",
        "    def predict(self, X):\n",
        "        proba = self.predict_proba(X)\n",
        "        return np.argmax(proba, axis=1)\n",
        "\n",
        "    # Add hyperparameters here whenever you add new ones\n",
        "    # max_iter is added as an example here. key is the hyperparameter name,\n",
        "    # and value is the attribute name you defined in this class\n",
        "    def get_params(self, deep=True):\n",
        "        return {'max_iter': self.max_iter, 'C': self.C}\n",
        "\n",
        "    # DO NOT CHANGE\n",
        "    def set_params(self, **parameters):\n",
        "        # Set estimator parameters\n",
        "        for parameter, value in parameters.items():\n",
        "            setattr(self, parameter, value)\n",
        "        return self\n"
      ]
    },
    {
      "cell_type": "markdown",
      "id": "rfTNn0Z6LuZK",
      "metadata": {
        "id": "rfTNn0Z6LuZK"
      },
      "source": [
        "## Run k-fold cross validation\n",
        "\n",
        "- Report the average/variance of accuracies across folds"
      ]
    },
    {
      "cell_type": "code",
      "execution_count": 174,
      "id": "EMlrveWFH7kx",
      "metadata": {
        "id": "EMlrveWFH7kx"
      },
      "outputs": [],
      "source": [
        "def run_k_fold(model, X, y, num_folds=5):\n",
        "    \"\"\"\n",
        "    model          : scikit-learn-like models\n",
        "    X (array-like) : Set of features\n",
        "    y (array-like) : Set of target lables\n",
        "    num_folds (int): the number of folds for cross-validation\n",
        "\n",
        "    \"\"\"\n",
        "\n",
        "    # Initialize KFold cross-validator\n",
        "    kf = KFold(n_splits=num_folds, shuffle=True, random_state=0)\n",
        "\n",
        "    accuracys = []\n",
        "\n",
        "    # Iterate through the folds\n",
        "    for train_index, val_index in kf.split(X_train):\n",
        "        X_train_fold, X_val_fold = X[train_index], X[val_index]\n",
        "        y_train_fold, y_val_fold = y[train_index], y[val_index]\n",
        "\n",
        "        # Fit the model\n",
        "        model.fit(X_train_fold, y_train_fold)\n",
        "\n",
        "        # Predict on the validation set\n",
        "        y_pred = model.predict(X_val_fold)\n",
        "        #print(\"Unique values in y_pred:\", np.unique(y_pred))\n",
        "\n",
        "        # Calculate r2_score for this fold\n",
        "        accuracy = accuracy_score(y_val_fold, y_pred)\n",
        "        accuracys.append(accuracy)\n",
        "\n",
        "    print(\"Average Accuracy    : \", np.mean(accuracys))\n",
        "    print(\"Variance of Accuracy: \", np.var(accuracys))"
      ]
    },
    {
      "cell_type": "code",
      "execution_count": 175,
      "id": "ZHNip69zz4lw",
      "metadata": {
        "colab": {
          "base_uri": "https://localhost:8080/"
        },
        "id": "ZHNip69zz4lw",
        "outputId": "7424e778-bb71-4d70-cc0c-bf9b59b1b5d0"
      },
      "outputs": [
        {
          "name": "stdout",
          "output_type": "stream",
          "text": [
            "(5344, 12) (5344,)\n"
          ]
        }
      ],
      "source": [
        "print(X_train.shape,y_train.shape)"
      ]
    },
    {
      "cell_type": "code",
      "execution_count": 176,
      "id": "efbc49b2",
      "metadata": {},
      "outputs": [
        {
          "name": "stdout",
          "output_type": "stream",
          "text": [
            "Average Accuracy    :  0.349734677447583\n",
            "Variance of Accuracy:  0.000282722970284775\n",
            "------------------\n",
            " Test Accuracy: 35.39%\n"
          ]
        }
      ],
      "source": [
        "model = OrdinalLogisticRegression()\n",
        "run_k_fold(model, X_train, y_train , num_folds = 10)\n",
        "\n",
        "predictions = model.predict(X_train)\n",
        "test_accuracy = accuracy_score(y_train, predictions)\n",
        "\n",
        "print(\"------------------\\n Test Accuracy: {:.2%}\".format(test_accuracy))"
      ]
    },
    {
      "cell_type": "markdown",
      "id": "sxu0cqPWMEIZ",
      "metadata": {
        "id": "sxu0cqPWMEIZ"
      },
      "source": [
        "## Bias-variance trade-off\n",
        "\n",
        "[bias_variance_decomp.py](https://github.com/rasbt/mlxtend/blob/master/mlxtend/evaluate/bias_variance_decomp.py)\n",
        "\n",
        "Below is a function you can use to compute the bias and variance of your ordinal logistic regression model. Using this function, analyze the ordinal logistic regression model performance based on bias-variance trade-off."
      ]
    },
    {
      "cell_type": "code",
      "execution_count": 177,
      "id": "kTas4z9mLpjI",
      "metadata": {
        "id": "kTas4z9mLpjI"
      },
      "outputs": [],
      "source": [
        "def _draw_bootstrap_sample(rng, X, y):\n",
        "    sample_indices = np.arange(X.shape[0])\n",
        "    bootstrap_indices = rng.choice(\n",
        "        sample_indices, size=sample_indices.shape[0], replace=True\n",
        "    )\n",
        "    return X[bootstrap_indices], y[bootstrap_indices]\n",
        "\n",
        "def bias_variance_decomp(\n",
        "    estimator,\n",
        "    X_train,\n",
        "    y_train,\n",
        "    X_test,\n",
        "    y_test,\n",
        "    num_rounds=10,\n",
        "    random_seed=0\n",
        "):\n",
        "    \"\"\"\n",
        "    estimator : object\n",
        "        A classifier or regressor object or class implementing both a\n",
        "        `fit` and `predict` method similar to the scikit-learn API.\n",
        "\n",
        "    X_train : array-like, shape=(num_examples, num_features)\n",
        "        A training dataset for drawing the bootstrap samples to carry\n",
        "        out the bias-variance decomposition.\n",
        "\n",
        "    y_train : array-like, shape=(num_examples)\n",
        "        Targets (class labels, continuous values in case of regression)\n",
        "        associated with the `X_train` examples.\n",
        "\n",
        "    X_test : array-like, shape=(num_examples, num_features)\n",
        "        The test dataset for computing the average loss, bias,\n",
        "        and variance.\n",
        "\n",
        "    y_test : array-like, shape=(num_examples)\n",
        "        Targets (class labels, continuous values in case of regression)\n",
        "        associated with the `X_test` examples.\n",
        "\n",
        "    num_rounds : int (default=10)\n",
        "        Number of bootstrap rounds (sampling from the training set)\n",
        "        for performing the bias-variance decomposition. Each bootstrap\n",
        "        sample has the same size as the original training set.\n",
        "\n",
        "    random_seed : int (default=0)\n",
        "        Random seed for the bootstrap sampling used for the\n",
        "        bias-variance decomposition.\n",
        "\n",
        "    Returns\n",
        "    ----------\n",
        "    avg_bias, avg_var : returns the average bias, and average bias (all floats),\n",
        "                        where the average is computed over the data points\n",
        "                        in the test set.\n",
        "\n",
        "    \"\"\"\n",
        "    loss = \"mse\"\n",
        "\n",
        "    for ary in (X_train, y_train, X_test, y_test):\n",
        "        assert type(ary) == np.ndarray, \\\n",
        "            \"X_train, y_train, X_test, y_test have to be NumPy array. \\\n",
        "            If e.g., X_train is a pandas DataFrame, convert it to NumPy array \\\n",
        "            via X_train=X_train.values.\"\n",
        "\n",
        "    rng = np.random.RandomState(random_seed)\n",
        "\n",
        "    # All the predictions across different rounds\n",
        "    all_pred = np.zeros((num_rounds, y_test.shape[0]), dtype=np.float64)\n",
        "\n",
        "    for i in range(num_rounds):\n",
        "        # Randomly sample training data\n",
        "        X_boot, y_boot = _draw_bootstrap_sample(rng, X_train, y_train)\n",
        "\n",
        "        # Fit the model using the randomly sampled data\n",
        "        pred = estimator.fit(X_boot, y_boot).predict(X_test)\n",
        "        all_pred[i] = pred\n",
        "\n",
        "    # Mean prediction across runs using different dataset for each data point\n",
        "    main_predictions = np.mean(all_pred, axis=0)\n",
        "\n",
        "    # Average bias across different rounds\n",
        "    avg_bias = np.sum((main_predictions - y_test) ** 2) / y_test.size\n",
        "\n",
        "    # Average variance across different rounds\n",
        "    avg_var = np.sum((main_predictions - all_pred) ** 2) / all_pred.size\n",
        "\n",
        "    return avg_bias, avg_var"
      ]
    },
    {
      "cell_type": "code",
      "execution_count": 178,
      "id": "IvfmmzCuMgyd",
      "metadata": {
        "id": "IvfmmzCuMgyd"
      },
      "outputs": [],
      "source": [
        "# Usage example\n",
        "model = OrdinalLogisticRegression()\n",
        "avg_bias, avg_var = \\\n",
        "    bias_variance_decomp(model, X_train, y_train, X_test, y_test, num_rounds=10, random_seed=0)"
      ]
    },
    {
      "cell_type": "code",
      "execution_count": 179,
      "id": "HGhlEcj7MpVP",
      "metadata": {
        "id": "HGhlEcj7MpVP"
      },
      "outputs": [
        {
          "name": "stdout",
          "output_type": "stream",
          "text": [
            "22.245733532934132 1.6693862275449103\n"
          ]
        }
      ],
      "source": [
        "print(avg_bias, avg_var)"
      ]
    },
    {
      "cell_type": "code",
      "execution_count": 180,
      "id": "1UKn7k1KOnwd",
      "metadata": {
        "id": "1UKn7k1KOnwd"
      },
      "outputs": [],
      "source": [
        "#TODO: Discuss bias-variance trade-off of your ordinal logistic regression model"
      ]
    },
    {
      "cell_type": "markdown",
      "id": "yM6x1l0ylEai",
      "metadata": {
        "id": "yM6x1l0ylEai"
      },
      "source": [
        "# Question 4: Model Tuning"
      ]
    },
    {
      "cell_type": "markdown",
      "id": "Yd1b-XDKlgYe",
      "metadata": {
        "id": "Yd1b-XDKlgYe"
      },
      "source": [
        "- What are the hyperparameters we can potentially set for our ordinal logistic regression model?\n",
        "- Which hyperparameters seem to be worthwhile to tune?"
      ]
    },
    {
      "cell_type": "markdown",
      "id": "hCqdrfV9nWEP",
      "metadata": {
        "id": "hCqdrfV9nWEP"
      },
      "source": [
        "## Grid Search\n",
        "\n",
        "- Grid search will take time to complete - but if it does not finish in a few hours, you're probably trying too many combinations\n",
        "- A recommended approach is to try a small number of combinations with a wide range first (for continuous value hyperparameters)! Then gradually increase the points that seem to be near optimal"
      ]
    },
    {
      "cell_type": "code",
      "execution_count": 181,
      "id": "W2csig4uY7XO",
      "metadata": {
        "id": "W2csig4uY7XO"
      },
      "outputs": [
        {
          "name": "stdout",
          "output_type": "stream",
          "text": [
            "Best Hyperparameters: {'C': 0.001, 'max_iter': 100}\n"
          ]
        }
      ],
      "source": [
        "from sklearn.model_selection import GridSearchCV\n",
        "from sklearn.metrics import make_scorer, f1_score, mean_squared_error\n",
        "\n",
        "#TODO: Perform grid search using a proper criteria and identify the best parameter set\n",
        "param_grid = {\n",
        "    'C': [0.001, 0.01, 0.1, 1],\n",
        "    'max_iter': [100, 200, 300, 400, 500]\n",
        "}\n",
        "\n",
        "# Define the scoring function you want to optimize for\n",
        "scorer = make_scorer('mean_squared_error')\n",
        "\n",
        "# Initialize the GridSearchCV object\n",
        "grid_search = GridSearchCV(estimator=OrdinalLogisticRegression(),\n",
        "                           param_grid=param_grid,\n",
        "                           scoring=scorer)\n",
        "\n",
        "# Fit the grid search to the data\n",
        "grid_search.fit(X_train, y_train)\n",
        "\n",
        "# Get the best hyperparameters\n",
        "best_hyperparams = grid_search.best_params_\n",
        "best_model = grid_search.best_estimator_\n",
        "\n",
        "print(\"Best Hyperparameters:\", best_hyperparams)\n"
      ]
    },
    {
      "cell_type": "markdown",
      "id": "4E7snhc_oCna",
      "metadata": {
        "id": "4E7snhc_oCna"
      },
      "source": [
        "## Visualize the feature importance of your model"
      ]
    },
    {
      "cell_type": "code",
      "execution_count": 182,
      "id": "p0uxuBLVlqh2",
      "metadata": {
        "id": "p0uxuBLVlqh2"
      },
      "outputs": [
        {
          "name": "stdout",
          "output_type": "stream",
          "text": [
            "Average Accuracy    :  0.35085967307221116\n",
            "Variance of Accuracy:  0.0002253559581371864\n",
            "------------------\n",
            " Test Accuracy: 36.00%\n"
          ]
        }
      ],
      "source": [
        "run_k_fold(best_model, X_train, y_train , num_folds = 10)\n",
        "\n",
        "predictions = best_model.predict(X_test)\n",
        "test_accuracy = accuracy_score(y_test, predictions)\n",
        "\n",
        "print(\"------------------\\n Test Accuracy: {:.2%}\".format(test_accuracy))"
      ]
    },
    {
      "cell_type": "code",
      "execution_count": 183,
      "id": "9vHrcM_7maIX",
      "metadata": {
        "id": "9vHrcM_7maIX"
      },
      "outputs": [
        {
          "data": {
            "image/png": "[encoded data removed]",
            "text/plain": [
              "<Figure size 1000x600 with 1 Axes>"
            ]
          },
          "metadata": {},
          "output_type": "display_data"
        }
      ],
      "source": [
        "# Get the coefficients and feature names\n",
        "coefficients = model.coef_\n",
        "feature_names = train_df_selected.columns\n",
        "\n",
        "# Get the indices that would sort the coefficients in descending order\n",
        "sorted_indices = np.argsort(coefficients[0])[::-1]\n",
        "\n",
        "# Sort the coefficients and feature names based on the sorted indices\n",
        "sorted_coefficients = coefficients[0, sorted_indices]\n",
        "sorted_feature_names = feature_names[sorted_indices]\n",
        "\n",
        "# Plot the feature importance\n",
        "plt.figure(figsize=(10, 6))\n",
        "plt.barh(np.arange(len(sorted_feature_names)), sorted_coefficients, align='center')\n",
        "plt.yticks(np.arange(len(sorted_feature_names)), sorted_feature_names)\n",
        "plt.xlabel('Coefficient Value')\n",
        "plt.ylabel('Feature')\n",
        "plt.title('Feature Importance of Ordinal Logistic Regression Model (Ranked)')\n",
        "plt.show()\n"
      ]
    },
    {
      "cell_type": "markdown",
      "id": "goOzqrk3nJUw",
      "metadata": {
        "id": "goOzqrk3nJUw"
      },
      "source": [
        "# Question 5: Testing"
      ]
    },
    {
      "cell_type": "code",
      "execution_count": 184,
      "id": "u-nCZ_QnnKhF",
      "metadata": {
        "id": "u-nCZ_QnnKhF"
      },
      "outputs": [],
      "source": [
        "#TODO: Using the best-performing model, evaluate the model performance both on the training set and test set\n",
        "\n",
        "#TODO: set the best-performing hyperparameters identified via grid search\n",
        "model_test = best_model.fit(X_train, y_train)\n",
        "\n",
        "y_pred_test = model_test.predict(X_test)\n"
      ]
    },
    {
      "cell_type": "code",
      "execution_count": 185,
      "id": "0-BMMRi0oIy5",
      "metadata": {
        "id": "0-BMMRi0oIy5"
      },
      "outputs": [
        {
          "data": {
            "image/png": "[encoded data removed]",
            "text/plain": [
              "<Figure size 1200x500 with 2 Axes>"
            ]
          },
          "metadata": {},
          "output_type": "display_data"
        }
      ],
      "source": [
        "\n",
        "# TODO: Print classification report and confusion matrix for the test set\n",
        "\n",
        "# Plot the distribution of true target variable values and predictions for both training and test sets\n",
        "fig, axes = plt.subplots(nrows=1, ncols=2, figsize=(12, 5))\n",
        "\n",
        "# Plot for Training Set\n",
        "axes[0].hist(y_train, color='blue', alpha=0.5, label='True Values (Training)')\n",
        "axes[0].hist(best_model.predict(X_train), color='orange', alpha=0.5, label='Predictions (Training)')\n",
        "axes[0].set_title('Distribution of True Values and Predictions (Training Set)')\n",
        "axes[0].legend()\n",
        "\n",
        "# Plot for Test Set\n",
        "axes[1].hist(y_test, color='blue', alpha=0.5, label='True Values (Test)')\n",
        "axes[1].hist(y_pred_test, color='orange', alpha=0.5, label='Predictions (Test)')\n",
        "axes[1].set_title('Distribution of True Values and Predictions (Test Set)')\n",
        "axes[1].legend()\n",
        "\n",
        "plt.show()"
      ]
    },
    {
      "cell_type": "code",
      "execution_count": null,
      "id": "kzxad5L4oTT7",
      "metadata": {
        "id": "kzxad5L4oTT7"
      },
      "outputs": [],
      "source": []
    }
  ],
  "metadata": {
    "colab": {
      "provenance": []
    },
    "kernelspec": {
      "display_name": "Python 3 (ipykernel)",
      "language": "python",
      "name": "python3"
    },
    "language_info": {
      "codemirror_mode": {
        "name": "ipython",
        "version": 3
      },
      "file_extension": ".py",
      "mimetype": "text/x-python",
      "name": "python",
      "nbconvert_exporter": "python",
      "pygments_lexer": "ipython3",
      "version": "3.11.5"
    }
  },
  "nbformat": 4,
  "nbformat_minor": 5
}
